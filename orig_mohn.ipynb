{
 "cells": [
  {
   "cell_type": "code",
   "execution_count": 2,
   "metadata": {},
   "outputs": [
    {
     "name": "stderr",
     "output_type": "stream",
     "text": [
      "\u001b[32m\u001b[1m    Updating\u001b[22m\u001b[39m registry at `~/.julia/registries/General.toml`\n"
     ]
    },
    {
     "name": "stderr",
     "output_type": "stream",
     "text": [
      "\u001b[32m\u001b[1m   Resolving\u001b[22m\u001b[39m package versions...\n"
     ]
    },
    {
     "name": "stderr",
     "output_type": "stream",
     "text": [
      "\u001b[32m\u001b[1m  No Changes\u001b[22m\u001b[39m to `~/.julia/environments/v1.8/Project.toml`\n",
      "\u001b[32m\u001b[1m  No Changes\u001b[22m\u001b[39m to `~/.julia/environments/v1.8/Manifest.toml`\n"
     ]
    },
    {
     "name": "stderr",
     "output_type": "stream",
     "text": [
      "\u001b[32m\u001b[1m   Resolving\u001b[22m\u001b[39m package versions...\n"
     ]
    },
    {
     "name": "stderr",
     "output_type": "stream",
     "text": [
      "\u001b[32m\u001b[1m  No Changes\u001b[22m\u001b[39m to `~/.julia/environments/v1.8/Project.toml`\n",
      "\u001b[32m\u001b[1m  No Changes\u001b[22m\u001b[39m to `~/.julia/environments/v1.8/Manifest.toml`\n"
     ]
    },
    {
     "name": "stderr",
     "output_type": "stream",
     "text": [
      "\u001b[32m\u001b[1m   Resolving\u001b[22m\u001b[39m package versions...\n"
     ]
    },
    {
     "name": "stderr",
     "output_type": "stream",
     "text": [
      "\u001b[32m\u001b[1m  No Changes\u001b[22m\u001b[39m to `~/.julia/environments/v1.8/Project.toml`\n",
      "\u001b[32m\u001b[1m  No Changes\u001b[22m\u001b[39m to `~/.julia/environments/v1.8/Manifest.toml`\n"
     ]
    },
    {
     "name": "stderr",
     "output_type": "stream",
     "text": [
      "\u001b[32m\u001b[1m   Resolving\u001b[22m\u001b[39m package versions...\n"
     ]
    },
    {
     "name": "stderr",
     "output_type": "stream",
     "text": [
      "\u001b[32m\u001b[1m  No Changes\u001b[22m\u001b[39m to `~/.julia/environments/v1.8/Project.toml`\n",
      "\u001b[32m\u001b[1m  No Changes\u001b[22m\u001b[39m to `~/.julia/environments/v1.8/Manifest.toml`\n"
     ]
    },
    {
     "name": "stderr",
     "output_type": "stream",
     "text": [
      "\u001b[32m\u001b[1m   Resolving\u001b[22m\u001b[39m package versions...\n"
     ]
    },
    {
     "name": "stderr",
     "output_type": "stream",
     "text": [
      "\u001b[32m\u001b[1m  No Changes\u001b[22m\u001b[39m to `~/.julia/environments/v1.8/Project.toml`\n",
      "\u001b[32m\u001b[1m  No Changes\u001b[22m\u001b[39m to `~/.julia/environments/v1.8/Manifest.toml`\n"
     ]
    }
   ],
   "source": [
    "using Pkg\n",
    "Pkg.add(\"JuMP\")\n",
    "Pkg.add(\"Gurobi\")\n",
    "Pkg.add(\"Distances\")\n",
    "Pkg.add(\"Distributions\")\n",
    "Pkg.add(\"DataFrames\")"
   ]
  },
  {
   "cell_type": "code",
   "execution_count": 3,
   "metadata": {},
   "outputs": [],
   "source": [
    "using JuMP\n",
    "using Gurobi\n",
    "using DataFrames\n",
    "using Random\n",
    "# stochastic departure: known when it comes in, but doesn't know when it departs (stoch demand)\n",
    "# first (where to store), second ()"
   ]
  },
  {
   "attachments": {},
   "cell_type": "markdown",
   "metadata": {},
   "source": [
    "# Generate Data"
   ]
  },
  {
   "attachments": {},
   "cell_type": "markdown",
   "metadata": {},
   "source": [
    "## Constants"
   ]
  },
  {
   "cell_type": "code",
   "execution_count": 4,
   "metadata": {},
   "outputs": [
    {
     "data": {
      "text/plain": [
       "30"
      ]
     },
     "metadata": {},
     "output_type": "display_data"
    }
   ],
   "source": [
    "warehouse_location_side_size = 2\n",
    "warehouse_rows = 20\n",
    "warehouse_columns = 50\n",
    "\n",
    "num_shipments = 100\n",
    "start_time = 5\n",
    "time_window = 20\n",
    "time_horizon = 30\n",
    "max_item_size = 10\n",
    "\n",
    "S = num_shipments\n",
    "L = warehouse_rows * warehouse_columns\n",
    "end_time = start_time + time_window\n",
    "T = time_horizon\n",
    "#0|----|s_t=5  e_t=25|----|30\n",
    "# indicator_arr2loc = zeros(Int, S)\n",
    "# indicator_loc2dep  = zeros(Int, S)\n",
    "# for s in 1:S\n",
    "#     if start_time -1 < shipments[s].arrival_time\n",
    "#         indicator_arr2loc[s] = 1\n",
    "#     end\n",
    "#     if shipments[s].departure_time < end_time\n",
    "#         indicator_loc2dep[s] = 1\n",
    "#     end\n",
    "# end\n",
    "# adding x, change obj\n",
    "# @variable(\n",
    "#     model,\n",
    "#     r[1:S,1:L,1:T] >= 0, Bin\n",
    "#     x[1:S,1:L] >= 0, Bin\n",
    "# ) ;\n",
    "\n",
    "# @objective(\n",
    "#     model,\n",
    "#     Min,\n",
    "#     sum(\n",
    "#         distance_to_arrival[l] * indicator_arr2loc[s] * x[s,l] + distance_to_departure[l] * indicator_loc2dep[s] * x[s,l]\n",
    "#         for s in 1:S,\n",
    "#             l in 1:L\n",
    "#     )\n",
    "# );\n",
    "\n",
    "# #x[s, l] shipment stored in location l\n",
    "# #r[s,l,t] -> r[s,l] #at a give time and location only one product can be stored \n",
    "# for s in 1:S\n",
    "#     for l in 1:L\n",
    "#             @constraint(\n",
    "#                 x[s, l] = sum(r[s,l,t] for l in 1:T) > 0\n",
    "#             )\n",
    "#     end\n",
    "# end"
   ]
  },
  {
   "cell_type": "code",
   "execution_count": 5,
   "metadata": {},
   "outputs": [
    {
     "ename": "UndefVarError",
     "evalue": "UndefVarError: shipments not defined",
     "output_type": "error",
     "traceback": [
      "UndefVarError: shipments not defined\n"
     ]
    }
   ],
   "source": [
    "shipments"
   ]
  },
  {
   "cell_type": "code",
   "execution_count": 6,
   "metadata": {},
   "outputs": [],
   "source": [
    "arrival_location = (0, 1)\n",
    "departure_location = (warehouse_rows, 0)\n",
    "\n",
    "distance_to_arrival = zeros(warehouse_rows * warehouse_columns)\n",
    "for i in 1:warehouse_rows, j in 1:warehouse_columns\n",
    "    l = (i-1)*warehouse_columns + j\n",
    "    distance_to_arrival[l] = i * warehouse_location_side_size + j * warehouse_location_side_size\n",
    "end\n",
    "\n",
    "distance_to_departure = zeros(warehouse_rows * warehouse_columns)\n",
    "for i in 1:warehouse_rows, j in 1:warehouse_columns\n",
    "    l = (i-1)*warehouse_columns + j\n",
    "    distance_to_departure[l] = ((warehouse_rows - i) * warehouse_location_side_size) + j * warehouse_location_side_size\n",
    "end\n",
    "\n",
    "location_max_size = rand(1:max_item_size, warehouse_rows * warehouse_columns)\n",
    "\n",
    "Random.seed!(3000)\n",
    "rand_shipment_data = rand(1:T, (S, 2))\n",
    "arrivals = minimum(rand_shipment_data, dims=2)\n",
    "departures = maximum(rand_shipment_data, dims=2)\n",
    "# TODO there cannot be any only arrival or only departures\n",
    "rand_sizes = rand(1:max_item_size, S)\n",
    "\n",
    "struct Shipment\n",
    "    arrival_time::Int\n",
    "    departure_time::Int # probability vector \n",
    "    product_size::Int\n",
    "end\n",
    "\n",
    "shipments = Array{Shipment,1}(undef, S)\n",
    "\n",
    "for s in 1:S\n",
    "    arrival_time = arrivals[s]\n",
    "    departure_time = departures[s]\n",
    "    product_size = rand_sizes[s]\n",
    "\n",
    "    # Can't arrive and depart at the same time\n",
    "    if arrival_time == departure_time\n",
    "        if departure_time == T\n",
    "            arrival_time -= 1\n",
    "        else\n",
    "            departure_time += 1\n",
    "        end\n",
    "    end\n",
    "\n",
    "    shipments[s] = Shipment(arrival_time, departure_time, product_size)\n",
    "end"
   ]
  },
  {
   "attachments": {},
   "cell_type": "markdown",
   "metadata": {},
   "source": [
    "# Build Model"
   ]
  },
  {
   "cell_type": "code",
   "execution_count": 7,
   "metadata": {},
   "outputs": [
    {
     "data": {
      "text/plain": [
       "100-element Vector{Shipment}:\n",
       " Shipment(9, 17, 1)\n",
       " Shipment(15, 21, 9)\n",
       " Shipment(3, 22, 2)\n",
       " Shipment(3, 16, 1)\n",
       " Shipment(7, 19, 3)\n",
       " Shipment(21, 27, 6)\n",
       " Shipment(13, 25, 1)\n",
       " Shipment(14, 18, 4)\n",
       " Shipment(1, 18, 10)\n",
       " Shipment(11, 27, 6)\n",
       " ⋮\n",
       " Shipment(2, 3, 3)\n",
       " Shipment(15, 25, 8)\n",
       " Shipment(11, 19, 10)\n",
       " Shipment(8, 25, 4)\n",
       " Shipment(11, 15, 6)\n",
       " Shipment(2, 3, 10)\n",
       " Shipment(11, 25, 4)\n",
       " Shipment(8, 26, 3)\n",
       " Shipment(9, 26, 2)"
      ]
     },
     "metadata": {},
     "output_type": "display_data"
    }
   ],
   "source": [
    "shipments"
   ]
  },
  {
   "cell_type": "code",
   "execution_count": null,
   "metadata": {},
   "outputs": [],
   "source": [
    "model = Model(Gurobi.Optimizer)\n",
    "set_optimizer_attribute(model, \"TimeLimit\", 60);\n",
    "\n",
    "# Are we assigning the product from shipment s to location l at time t\n",
    "@variable(\n",
    "    model,\n",
    "    r[1:S,1:L,1:T] >= 0, Bin\n",
    "    x[1:S,1:L] >= 0, Bin\n",
    ") ;\n",
    "\n",
    "@objective(\n",
    "    model,\n",
    "    Min,\n",
    "    sum(\n",
    "        distance_to_arrival[l] * indicator_arr2loc[s] * x[s,l] + distance_to_departure[l] * indicator_loc2dep[s] * x[s,l]\n",
    "        for s in 1:S,\n",
    "            l in 1:L\n",
    "    )\n",
    ");\n",
    "\n",
    "#x[s, l] shipment stored in location l\n",
    "#r[s,l,t] -> r[s,l] #at a give time and location only one product can be stored \n",
    "for s in 1:S\n",
    "    for l in 1:L\n",
    "            @constraint(\n",
    "                x[s, l] = sum(r[s,l,t] for l in 1:T) > 0\n",
    "            )\n",
    "    end\n",
    "end\n",
    "\n",
    "# Each product must be assigned to exactly one location during its time window:\n",
    "for s in 1:S\n",
    "    for t in shipments[s].arrival_time:shipments[s].departure_time\n",
    "        @constraint(\n",
    "            model,\n",
    "            sum(r[s,l,t] for l in 1:L) == 1\n",
    "        );\n",
    "    end\n",
    "end\n",
    "\n",
    "# Each location can hold at most one product at any specific time:\n",
    "for l in 1:L\n",
    "    for t in 1:T\n",
    "        @constraint(\n",
    "            model,\n",
    "            sum(r[s,l,t] for s in 1:S) <= 1\n",
    "        );\n",
    "    end\n",
    "end\n",
    "\n",
    "# Each location can only hold items up to max size of the location\n",
    "for l in 1:L\n",
    "    for t in 1:T\n",
    "        for s in 1:S\n",
    "            @constraint(\n",
    "                model,\n",
    "                r[s,l,t] * shipments[s].product_size <= location_max_size[l]\n",
    "            );\n",
    "        end\n",
    "    end\n",
    "end"
   ]
  },
  {
   "cell_type": "code",
   "execution_count": null,
   "metadata": {},
   "outputs": [],
   "source": [
    "model = Model(Gurobi.Optimizer)\n",
    "set_optimizer_attribute(model, \"TimeLimit\", 60);\n",
    "\n",
    "# Are we assigning the product from shipment s to location l at time t\n",
    "@variable(\n",
    "    model,\n",
    "    r[1:S,1:L,1:T] >= 0, Bin\n",
    ") ;\n",
    "\n",
    "@objective(\n",
    "    model,\n",
    "    Min,\n",
    "    sum(\n",
    "        (distance_to_arrival[l] + distance_to_departure[l]) / (shipments[s].departure_time - shipments[s].arrival_time) * r[s,l,t]\n",
    "        for s in 1:S,\n",
    "            l in 1:L,\n",
    "            t in 1:T\n",
    "    )\n",
    ");\n",
    "\n",
    "# Each product must be assigned to exactly one location during its time window:\n",
    "for s in 1:S\n",
    "    for t in shipments[s].arrival_time:shipments[s].departure_time\n",
    "        @constraint(\n",
    "            model,\n",
    "            sum(\n",
    "                r[s,l,t]\n",
    "                for l in 1:L\n",
    "            ) == 1\n",
    "        );\n",
    "    end\n",
    "end\n",
    "\n",
    "# Each product is only assigned to a location during its time window:\n",
    "for s in 1:S\n",
    "    for t in 1:shipments[s].arrival_time-1\n",
    "        @constraint(\n",
    "            model,\n",
    "            sum(\n",
    "                r[s,l,t]\n",
    "                for l in 1:L\n",
    "            ) == 0\n",
    "        );\n",
    "    end\n",
    "end\n",
    "for s in 1:S\n",
    "    for t in shipments[s].departure_time+1:T\n",
    "        @constraint(\n",
    "            model,\n",
    "            sum(\n",
    "                r[s,l,t]\n",
    "                for l in 1:L\n",
    "            ) == 0\n",
    "        );\n",
    "    end\n",
    "end\n",
    "\n",
    "# Each location can hold at most one product at any specific time:\n",
    "for l in 1:L\n",
    "    for t in 1:T\n",
    "        @constraint(\n",
    "            model,\n",
    "            sum(\n",
    "                r[s,l,t]\n",
    "                for s in 1:S\n",
    "            ) <= 1\n",
    "        );\n",
    "    end\n",
    "end\n",
    "\n",
    "# Each location can only hold items up to max size of the location\n",
    "for l in 1:L\n",
    "    for t in 1:T\n",
    "        for s in 1:S\n",
    "            @constraint(\n",
    "                model,\n",
    "                r[s,l,t] * shipments[s].product_size <= location_max_size[l]\n",
    "            );\n",
    "        end\n",
    "    end\n",
    "end"
   ]
  },
  {
   "cell_type": "code",
   "execution_count": 33,
   "metadata": {},
   "outputs": [
    {
     "name": "stdout",
     "output_type": "stream",
     "text": [
      "Set parameter TimeLimit to value 60\n",
      "Gurobi Optimizer version 10.0.1 build v10.0.1rc0 (mac64[arm])\n",
      "\n",
      "CPU model: Apple M2 Pro\n",
      "Thread count: 10 physical cores, 10 logical processors, using up to 10 threads\n",
      "\n",
      "Optimize a model with 3033000 rows, 3000000 columns and 9000000 nonzeros\n",
      "Model fingerprint: 0x1cff127a\n",
      "Variable types: 0 continuous, 3000000 integer (3000000 binary)\n",
      "Coefficient statistics:\n",
      "  Matrix range     [1e+00, 1e+01]\n",
      "  Objective range  [2e+00, 2e+02]\n",
      "  Bounds range     [0e+00, 0e+00]\n",
      "  RHS range        [1e+00, 1e+01]\n",
      "Found heuristic solution: objective 17061.186114\n",
      "Presolve removed 3003182 rows and 2376530 columns (presolve time = 5s) ...\n",
      "Presolve removed 3031945 rows and 2968090 columns\n",
      "Presolve time: 6.79s\n",
      "Presolved: 1055 rows, 31910 columns, 63820 nonzeros\n",
      "Found heuristic solution: objective 5798.9611481\n",
      "Variable types: 0 continuous, 31910 integer (31910 binary)\n",
      "Found heuristic solution: objective 5736.0499637\n",
      "\n",
      "Root simplex log...\n",
      "\n",
      "Iteration    Objective       Primal Inf.    Dual Inf.      Time\n",
      "       0    5.3357656e+03   5.500000e+01   0.000000e+00      7s\n",
      "     401    5.5564001e+03   0.000000e+00   0.000000e+00      7s\n",
      "\n",
      "Root relaxation: objective 5.556400e+03, 401 iterations, 0.02 seconds (0.04 work units)\n",
      "\n",
      "    Nodes    |    Current Node    |     Objective Bounds      |     Work\n",
      " Expl Unexpl |  Obj  Depth IntInf | Incumbent    BestBd   Gap | It/Node Time\n",
      "\n",
      "*    0     0               0    5556.4001491 5556.40015  0.00%     -    7s\n",
      "\n",
      "Explored 1 nodes (401 simplex iterations) in 7.40 seconds (12.76 work units)\n",
      "Thread count was 10 (of 10 available processors)\n",
      "\n",
      "Solution count 4: 5556.4 5736.05 5798.96 17061.2 \n",
      "\n",
      "Optimal solution found (tolerance 1.00e-04)\n",
      "Best objective 5.556400149094e+03, best bound 5.556400149094e+03, gap 0.0000%\n",
      "\n",
      "User-callback calls 1381, time in user-callback 0.00 sec\n"
     ]
    }
   ],
   "source": [
    "optimize!(model) \n",
    "# before: \n",
    "# Optimize a model with 3033000 rows, 3000000 columns and 9000000 nonzeros\n",
    "# Model fingerprint: 0x1cff127a\n",
    "# Variable types: 0 continuous, 3000000 integer (3000000 binary)\n",
    "# Coefficient statistics:\n",
    "#   Matrix range     [1e+00, 1e+01]\n",
    "#   Objective range  [2e+00, 2e+02]\n",
    "#   Bounds range     [0e+00, 0e+00]\n",
    "#   RHS range        [1e+00, 1e+01]\n",
    "# Found heuristic solution: objective 17061.186114\n",
    "# Presolve removed 3003182 rows and 2376530 columns (presolve time = 5s) ...\n",
    "# Presolve removed 3031945 rows and 2968090 columns\n",
    "# Presolve time: 6.79s\n",
    "# Presolved: 1055 rows, 31910 columns, 63820 nonzeros\n",
    "# Found heuristic solution: objective 5798.9611481\n",
    "# Variable types: 0 continuous, 31910 integer (31910 binary)\n",
    "# Found heuristic solution: objective 5736.0499637"
   ]
  }
 ],
 "metadata": {
  "kernelspec": {
   "display_name": "Julia 1.8.5",
   "language": "julia",
   "name": "julia-1.8"
  },
  "language_info": {
   "file_extension": ".jl",
   "mimetype": "application/julia",
   "name": "julia",
   "version": "1.8.5"
  },
  "orig_nbformat": 4
 },
 "nbformat": 4,
 "nbformat_minor": 2
}
