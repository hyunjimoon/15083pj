{
 "cells": [
  {
   "cell_type": "code",
   "execution_count": 1,
   "metadata": {},
   "outputs": [],
   "source": [
    "# using Pkg\n",
    "# Pkg.add(\"JuMP\")\n",
    "# Pkg.add(\"Gurobi\")\n",
    "# Pkg.add(\"Distances\")\n",
    "# Pkg.add(\"Distributions\")\n",
    "# Pkg.add(\"DataFrames\")"
   ]
  },
  {
   "cell_type": "code",
   "execution_count": 2,
   "metadata": {},
   "outputs": [
    {
     "name": "stdout",
     "output_type": "stream",
     "text": [
      "Set parameter Username\n",
      "Academic license - for non-commercial use only - expires 2024-04-18\n"
     ]
    },
    {
     "data": {
      "text/plain": [
       "Gurobi.Env(Ptr{Nothing} @0x00000002a762ca00, false, 0)"
      ]
     },
     "metadata": {},
     "output_type": "display_data"
    }
   ],
   "source": [
    "using JuMP, Gurobi, Graphs, Plots, StatsPlots, DataFrames, Random, Printf, LinearAlgebra, Distributions, Distances, Suppressor\n",
    "const GRB_ENV = Gurobi.Env()"
   ]
  },
  {
   "attachments": {},
   "cell_type": "markdown",
   "metadata": {},
   "source": [
    "# Generate Data"
   ]
  },
  {
   "attachments": {},
   "cell_type": "markdown",
   "metadata": {},
   "source": [
    "## Constants"
   ]
  },
  {
   "cell_type": "code",
   "execution_count": 3,
   "metadata": {},
   "outputs": [
    {
     "data": {
      "text/plain": [
       "WarehouseData (generic function with 1 method)"
      ]
     },
     "metadata": {},
     "output_type": "display_data"
    }
   ],
   "source": [
    "struct Warehouse #supply\n",
    "    num_loc::Int\n",
    "    time_horizon::Int\n",
    "    distance_to_arrival::Vector{Float64}\n",
    "    distance_to_departure::Vector{Float64}\n",
    "    capacity::Vector{Float64}\n",
    "end\n",
    "\n",
    "struct Shipment #demand\n",
    "    num_shipment::Int\n",
    "    arrival_time::Vector\n",
    "    departure_time::Vector\n",
    "    shipment_size::Vector \n",
    "end\n",
    "\n",
    "function ShipmentData(time_horizon, num_shipment, max_shipment_size)\n",
    "    rand_shipment_time = sort(rand(1:time_horizon, (num_shipment, 2)), dims = 2)\n",
    "    rand_sizes = rand(1:max_shipment_size, num_shipment)\n",
    "\n",
    "    return Shipment(num_shipment, rand_shipment_time[:, 1], rand_shipment_time[:, 2], rand_sizes)\n",
    "end\n",
    "\n",
    "function WarehouseData(grid_size, time_horizon, warehouse_row, warehouse_col, max_shipment_size, cap_tightness)\n",
    "    arrival_location = (0, 0)\n",
    "    departure_location = (warehouse_row, 0)\n",
    "    \n",
    "    location = [(i*grid_size,j*grid_size) for i =1:warehouse_row, j = 1:warehouse_col]\n",
    "    num_loc = warehouse_row * warehouse_col\n",
    "    distance_to_arrival = [norm(arrival_location .- location[l]) for l in 1:num_loc]\n",
    "    distance_to_departure = [norm(arrival_location .- location[l]) for l in 1:num_loc]\n",
    "    #cap_tightness \\in [0,1]: 1 is loose tight (uniform), 0 is null size capacity (previous it was reverse - but re-reversed!)\n",
    "    capacity = rand(floor(max_shipment_size * (1-cap_tightness)):max_shipment_size, warehouse_row * warehouse_col) \n",
    "    return Warehouse(num_loc, time_horizon, distance_to_arrival, distance_to_departure, capacity)\n",
    "end"
   ]
  },
  {
   "attachments": {},
   "cell_type": "markdown",
   "metadata": {},
   "source": [
    "# Build Model"
   ]
  },
  {
   "attachments": {},
   "cell_type": "markdown",
   "metadata": {},
   "source": [
    "demand packs one supply (occupancy) and size of demand packs supply size (size) \n",
    "\n",
    "\\begin{align}\n",
    "\\sum_{i \\in 1:I} x_{ilt} \\leq 1 \\quad \\text{occupancy (shipment1, shipment2, location)}\\\\\n",
    "\\sum_{i \\in 1:I} d_i x_i \\leq s \\quad (\\text{vs} d_i x_i \\leq s \\forall i )\\quad\\text{size (shipment1, location)}\\\\ \n",
    "\n",
    "\\\\\n",
    "\\sum_{i \\in 1:I} x_{ij} \\leq 1 \\forall j \\quad\\text{occupancy}\\\\\n",
    "\\sum_{i \\in 1:I} d_i x_{ij} \\leq s_j \\forall j \\quad\\text{size}\\\\\n",
    "\\end{align}"
   ]
  },
  {
   "cell_type": "code",
   "execution_count": 4,
   "metadata": {},
   "outputs": [
    {
     "data": {
      "text/plain": [
       "three_slt_extended_time_space (generic function with 1 method)"
      ]
     },
     "metadata": {},
     "output_type": "display_data"
    }
   ],
   "source": [
    "function three_slt_extended_time_space(\n",
    "    warehouse_data::Warehouse,\n",
    "    shipment_data::Shipment\n",
    ")\n",
    "    L = warehouse_data.num_loc\n",
    "    S = shipment_data.num_shipment\n",
    "    T = warehouse_data.time_horizon\n",
    "\n",
    "    model = Model(Gurobi.Optimizer)\n",
    "    set_optimizer_attribute(model, \"TimeLimit\", 60);\n",
    "\n",
    "    @variable(model, r[1:S,1:L,1:T] >= 0, Bin);\n",
    "    @variable(model, z[1:S,1:L] >= 0, Bin);\n",
    "\n",
    "    # supply side: \n",
    "    # can't store more than one shipment at each location and time\n",
    "    @constraint(model, occupancy_pack[l in 1:L, t in 1:T],\n",
    "        sum(r[s,l,t] for s in 1:S) <=1)\n",
    "    \n",
    "    # Each location can only hold items up to max size of the location\n",
    "    @constraint(model, size_pack[l in 1:L, t in 1:T],\n",
    "        sum(r[s,l,t] * shipment_data.shipment_size[s] for s in 1:S) <= warehouse_data.capacity[l] ## TODO sum over shipment or not\n",
    "    );\n",
    "\n",
    "    # Force z[s,l] to capture the location we're storing s in\n",
    "    @constraint(model, no_bumping[s in 1:S, l in 1:L, t in shipment_data.arrival_time[s]:shipment_data.departure_time[s]], \n",
    "        r[s,l,t] == z[s,l])\n",
    "\n",
    "    # Each shipment must be assigned to exactly one location during its time window:\n",
    "    @constraint(model, demand_pack_supply_once[s in 1:S, t in shipment_data.arrival_time[s]:shipment_data.departure_time[s]],\n",
    "        sum(r[s,l,t] for l in 1:L) == 1)\n",
    "\n",
    "    # Each shipment must be assigned to exactly zero locations outside its time window:\n",
    "    @constraint(model, mute_before_timewindow[s in 1:S, t in 1:shipment_data.arrival_time[s]-1],\n",
    "        sum(r[s,l,t] for l in 1:L) == 0)\n",
    "\n",
    "    @constraint(model, mute_after_timewindow[s in 1:S, t in shipment_data.departure_time[s]+1:T],\n",
    "        sum(r[s,l,t] for l in 1:L) == 0)\n",
    "\n",
    "    @objective(model, Min, \n",
    "        sum((warehouse_data.distance_to_arrival[l] + warehouse_data.distance_to_departure[l]) / (shipment_data.departure_time[s] - shipment_data.arrival_time[s] + 1) * r[s,l,t] \n",
    "        for s in 1:S, l in 1:L,t in 1:T));\n",
    "\n",
    "    return model, r, z\n",
    "end\n"
   ]
  },
  {
   "cell_type": "code",
   "execution_count": 5,
   "metadata": {},
   "outputs": [
    {
     "data": {
      "text/plain": [
       "two_sl_so (generic function with 1 method)"
      ]
     },
     "metadata": {},
     "output_type": "display_data"
    }
   ],
   "source": [
    "function two_sl_so(\n",
    "    warehouse_data::Warehouse,\n",
    "    shipment_data::Shipment\n",
    ")\n",
    "    L = warehouse_data.num_loc\n",
    "    S = shipment_data.num_shipment\n",
    "    T = warehouse_data.time_horizon\n",
    "\n",
    "    model = Model(Gurobi.Optimizer)\n",
    "    set_optimizer_attribute(model, \"TimeLimit\", 60);\n",
    "    @variable(model, z[1:S,1:L] >= 0, Bin);\n",
    "\n",
    "    @objective(model, Min, \n",
    "        sum((warehouse_data.distance_to_arrival[l] + warehouse_data.distance_to_departure[l]) * z[s,l] for s in 1:S, l in 1:L))\n",
    "\n",
    "\n",
    "    # Each product must be assigned to exactly one location:\n",
    "    @constraint(model, location_assignment[s in 1:S],\n",
    "        sum(\n",
    "            z[s,l]\n",
    "            for l in 1:L\n",
    "        ) == 1\n",
    "    );\n",
    "\n",
    "    # Each location can only hold items up to max size of the location\n",
    "    @constraint(model, max_size[l in 1:L, s in 1:S],\n",
    "        z[s,l] * shipment_data.shipment_size[s] <= warehouse_data.capacity[l]\n",
    "    );\n",
    "\n",
    "    # Each location can hold at most one product at any specific time:\n",
    "    overlap_dict = Dict{Int64,Vector{Int64}}()\n",
    "    for s1 in 1:S\n",
    "        s = []\n",
    "        for s2 in s1+1:S\n",
    "            if shipment_data.arrival_time[s1] <= shipment_data.departure_time[s2] && shipment_data.arrival_time[s2] <= shipment_data.departure_time[s1]\n",
    "                append!(s, s2)\n",
    "            end\n",
    "        end\n",
    "        overlap_dict[s1] = s\n",
    "    end\n",
    "\n",
    "    # # Each location can hold at most one product at any specific time:\n",
    "    # function find_overlap(s1)\n",
    "    #     s = []\n",
    "    #     for s2 in s1+1:S\n",
    "    #         if s1 == s2\n",
    "    #             continue\n",
    "    #         end\n",
    "\n",
    "    #         if shipment_data.arrival_time[s1] <= shipment_data.departure_time[s2] && shipment_data.arrival_time[s2] <= shipment_data.departure_time[s1]\n",
    "    #             append!(s, s2)\n",
    "    #         end\n",
    "    #     end\n",
    "    #     return s\n",
    "    # end\n",
    "\n",
    "    # @constraint(model, no_overlap[s1 in 1:S, s2 in find_overlap(s1), l in 1:L],\n",
    "    #     z[s1,l] + z[s2,l] <= 1\n",
    "    # );\n",
    "    @constraint(model, no_overlap[s1 in 1:S, s2 in overlap_dict[s1], l in 1:L],\n",
    "        z[s1,l] + z[s2,l] <= 1\n",
    "    );\n",
    "\n",
    "    return model, z\n",
    "end\n"
   ]
  },
  {
   "cell_type": "code",
   "execution_count": 6,
   "metadata": {},
   "outputs": [
    {
     "data": {
      "text/plain": [
       "two_sl_cso (generic function with 1 method)"
      ]
     },
     "metadata": {},
     "output_type": "display_data"
    }
   ],
   "source": [
    "function two_sl_cso(\n",
    "    warehouse_data::Warehouse,\n",
    "    shipment_data::Shipment\n",
    ")\n",
    "    L = warehouse_data.num_loc\n",
    "    S = shipment_data.num_shipment\n",
    "    T = warehouse_data.time_horizon\n",
    "    \n",
    "    model = Model(Gurobi.Optimizer)\n",
    "    set_optimizer_attribute(model, \"TimeLimit\", 60);\n",
    "\n",
    "    @variable(model, z[1:S,1:L] >= 0, Bin);\n",
    "\n",
    "    @variable(\n",
    "        model,\n",
    "        1 <= r[1:S] <= L, Int\n",
    "    ) ;\n",
    "\n",
    "    @variable(\n",
    "        model,\n",
    "        y[1:S, 1:S], Bin\n",
    "    ) ;\n",
    "\n",
    "    @objective(model, Min, \n",
    "        sum((warehouse_data.distance_to_arrival[l] + warehouse_data.distance_to_departure[l]) * z[s,l] for s in 1:S, l in 1:L))\n",
    "\n",
    "    # Make r[s] equal to the index of the location we're storing s in\n",
    "    @constraint(model, assign_location_index[s in 1:S],\n",
    "        sum(\n",
    "            l * z[s,l]\n",
    "            for l in 1:L\n",
    "        ) == r[s]\n",
    "    );\n",
    "\n",
    "    # Each product must be assigned to exactly one location:\n",
    "    @constraint(model, location_assignment[s in 1:S],\n",
    "        sum(\n",
    "            z[s,l]\n",
    "            for l in 1:L\n",
    "        ) == 1\n",
    "    );\n",
    "\n",
    "    # Each location can only hold items up to max size of the location\n",
    "    @constraint(model, max_size[l in 1:L, s in 1:S],\n",
    "        z[s,l] * shipment_data.shipment_size[s] <= warehouse_data.capacity[l] ## TODO sum over shipment or not\n",
    "    );\n",
    "\n",
    "    # Each location can hold at most one product at any specific time:\n",
    "    overlap_dict = Dict{Int64,Vector{Int64}}()\n",
    "    for s1 in 1:S\n",
    "        s = []\n",
    "        for s2 in s1+1:S\n",
    "            if shipment_data.arrival_time[s1] <= shipment_data.departure_time[s2] && shipment_data.arrival_time[s2] <= shipment_data.departure_time[s1]\n",
    "                append!(s, s2)\n",
    "            end\n",
    "        end\n",
    "        overlap_dict[s1] = s\n",
    "    end\n",
    "\n",
    "    # function find_overlap(s1)\n",
    "    #     s = []\n",
    "    #     for s2 in s1:S\n",
    "    #         if shipment_data.arrival_time[s1] <= shipment_data.departure_time[s2] && shipment_data.arrival_time[s2] <= shipment_data.departure_time[s1]\n",
    "    #             append!(s, s2)\n",
    "    #         end\n",
    "    #     end\n",
    "    #     return s\n",
    "    # end\n",
    "\n",
    "    # @constraint(model, no_overlap_1[s1 in 1:S, s2 in find_overlap(s1)],\n",
    "    #     r[s1] - r[s2] <= -.01 + (L+5) * y[s1,s2]\n",
    "    # );\n",
    "    # @constraint(model, no_overlap_2[s1 in 1:S, s2 in find_overlap(s1)],\n",
    "    #     r[s1] - r[s2] >= .01 - (1-y[s1,s2]) * (L+5)\n",
    "    # );\n",
    "    @constraint(model, no_overlap_1[s1 in 1:S, s2 in overlap_dict[s1]],\n",
    "        r[s1] - r[s2] <= -.01 + (L+5) * y[s1,s2]\n",
    "    );\n",
    "    @constraint(model, no_overlap_2[s1 in 1:S, s2 in overlap_dict[s1]],\n",
    "        r[s1] - r[s2] >= .01 - (1-y[s1,s2]) * (L+5)\n",
    "    );\n",
    "\n",
    "    return model, z\n",
    "end\n"
   ]
  },
  {
   "cell_type": "code",
   "execution_count": 7,
   "metadata": {},
   "outputs": [
    {
     "name": "stdout",
     "output_type": "stream",
     "text": [
      "Starting 1\n",
      "Set parameter Username\n",
      "Academic license - for non-commercial use only - expires 2024-04-18\n",
      "Set parameter TimeLimit to value 60\n"
     ]
    },
    {
     "name": "stdout",
     "output_type": "stream",
     "text": [
      "Starting 2\n",
      "Set parameter Username\n",
      "Academic license - for non-commercial use only - expires 2024-04-18\n",
      "Set parameter TimeLimit to value 60\n"
     ]
    },
    {
     "name": "stdout",
     "output_type": "stream",
     "text": [
      "Starting 1\n",
      "Set parameter Username\n",
      "Academic license - for non-commercial use only - expires 2024-04-18\n",
      "Set parameter TimeLimit to value 60\n"
     ]
    },
    {
     "name": "stdout",
     "output_type": "stream",
     "text": [
      "Starting 2\n",
      "Set parameter Username\n",
      "Academic license - for non-commercial use only - expires 2024-04-18\n",
      "Set parameter TimeLimit to value 60\n"
     ]
    },
    {
     "name": "stdout",
     "output_type": "stream",
     "text": [
      "Starting 1\n",
      "Set parameter Username\n",
      "Academic license - for non-commercial use only - expires 2024-04-18\n",
      "Set parameter TimeLimit to value 60\n"
     ]
    }
   ],
   "source": [
    "Random.seed!(3000)\n",
    "\n",
    "plotdata = []\n",
    "# packing S paths in LT space\n",
    "L_range = [(20, 20)] #, (30, 75)]\n",
    "S_range = [10, 30, 100] #, 100, 250]\n",
    "T_range = [10, 20]\n",
    "cap_tightness_range = [0, .5, 1]\n",
    "for ((r, c), s, t, cap_tightness) in Iterators.product(\n",
    "    L_range,\n",
    "    S_range,\n",
    "    T_range,\n",
    "    cap_tightness_range\n",
    ")\n",
    "    G = 2\n",
    "    R = r\n",
    "    C = c\n",
    "    L = R*C\n",
    "    T = t\n",
    "    max_shipment_size = 10\n",
    "    S = s\n",
    "    #function WarehouseData(grid_size, warehouse_row, warehouse_col, max_shipment_size, time_horizon, cap_tightness)\n",
    "    warehouse_data = WarehouseData(G, T, R, C, max_shipment_size, cap_tightness)\n",
    "    shipment_data = ShipmentData(T, S, max_shipment_size)\n",
    "\n",
    "    @printf \"Starting 1\\n\"\n",
    "    buildtime1 = @elapsed model1, _, _ = three_slt_extended_time_space(warehouse_data, shipment_data) #\n",
    "    # optimize!(model1)\n",
    "    solvetime1 = @elapsed @suppress optimize!(model1)\n",
    "    objective1 = typemax(Int32)\n",
    "    try\n",
    "        objective1 = objective_value(model1)\n",
    "    catch\n",
    "    end\n",
    "\n",
    "    @printf \"Starting 2\\n\"\n",
    "    buildtime2 = @elapsed model2, _ = two_sl_so(warehouse_data, shipment_data)#\n",
    "    # optimize!(model2)\n",
    "    solvetime2 = @elapsed @suppress optimize!(model2)\n",
    "    objective2 = typemax(Int32)\n",
    "    try\n",
    "        objective2 = objective_value(model2)\n",
    "    catch\n",
    "    end\n",
    "    \n",
    "\n",
    "    push!(plotdata, (\n",
    "        L = L,\n",
    "        S = S,\n",
    "        T = T,\n",
    "        cap_tightness = cap_tightness,\n",
    "        buildtime1 = buildtime1, \n",
    "        solvetime1 = solvetime1, \n",
    "        objective1 = objective1,\n",
    "        buildtime2 = buildtime2, \n",
    "        solvetime2 = solvetime2, \n",
    "        objective2 = objective2,\n",
    "\n",
    "    ))\n",
    "end\n",
    "df = DataFrame(plotdata)\n",
    "\n",
    "@show df"
   ]
  },
  {
   "cell_type": "code",
   "execution_count": null,
   "metadata": {},
   "outputs": [],
   "source": [
    "groupedbar(\n",
    "    repeat(lpad.(string.(L_range), 4), outer = 3), \n",
    "    vcat(df[!, :solvetime1], df[!, :solvetime2], df[!, :solvetime3]),\n",
    "    group = repeat([\"Model 1\", \"Model 2\", \"Model 3\"], inner = 3),\n",
    "    ylabel = \"Solve time (s)\",\n",
    "    # yscale = :log10,\n",
    "    title = \"Solve times of both formulations with # of customers\",\n",
    "    legend = :topleft,\n",
    ")"
   ]
  },
  {
   "cell_type": "code",
   "execution_count": null,
   "metadata": {},
   "outputs": [],
   "source": [
    "df = DataFrame(plotdata)\n",
    "@show df"
   ]
  },
  {
   "cell_type": "code",
   "execution_count": null,
   "metadata": {},
   "outputs": [],
   "source": []
  }
 ],
 "metadata": {
  "kernelspec": {
   "display_name": "Julia 1.8.5",
   "language": "julia",
   "name": "julia-1.8"
  },
  "language_info": {
   "file_extension": ".jl",
   "mimetype": "application/julia",
   "name": "julia",
   "version": "1.8.5"
  },
  "orig_nbformat": 4
 },
 "nbformat": 4,
 "nbformat_minor": 2
}
