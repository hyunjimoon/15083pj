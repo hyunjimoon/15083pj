{
 "cells": [
  {
   "cell_type": "code",
   "execution_count": 1,
   "metadata": {},
   "outputs": [],
   "source": [
    "# using Pkg\n",
    "# Pkg.add(\"JuMP\")\n",
    "# Pkg.add(\"Gurobi\")\n",
    "# Pkg.add(\"Distances\")\n",
    "# Pkg.add(\"Distributions\")\n",
    "# Pkg.add(\"DataFrames\")"
   ]
  },
  {
   "cell_type": "code",
   "execution_count": 2,
   "metadata": {},
   "outputs": [
    {
     "name": "stdout",
     "output_type": "stream",
     "text": [
      "Set parameter Username\n",
      "Academic license - for non-commercial use only - expires 2024-04-18\n"
     ]
    },
    {
     "data": {
      "text/plain": [
       "Gurobi.Env(Ptr{Nothing} @0x00000001365e5800, false, 0)"
      ]
     },
     "metadata": {},
     "output_type": "display_data"
    }
   ],
   "source": [
    "using JuMP, Gurobi, Graphs, Plots, StatsPlots, DataFrames, Random, Printf, LinearAlgebra, Distributions, Distances, Suppressor\n",
    "const GRB_ENV = Gurobi.Env()"
   ]
  },
  {
   "attachments": {},
   "cell_type": "markdown",
   "metadata": {},
   "source": [
    "# Generate Data"
   ]
  },
  {
   "attachments": {},
   "cell_type": "markdown",
   "metadata": {},
   "source": [
    "## Constants"
   ]
  },
  {
   "cell_type": "code",
   "execution_count": 28,
   "metadata": {},
   "outputs": [
    {
     "data": {
      "text/plain": [
       "WarehouseData (generic function with 1 method)"
      ]
     },
     "metadata": {},
     "output_type": "display_data"
    }
   ],
   "source": [
    "struct Warehouse #supply\n",
    "    grid_size::Float64\n",
    "    time_horizon::Int\n",
    "    distance_to_arrival::Vector{Float64}\n",
    "    distance_to_departure::Vector{Float64}\n",
    "    capacity::Vector{Float64}\n",
    "end\n",
    "\n",
    "struct Shipment #demand\n",
    "    arrival_time::Vector\n",
    "    departure_time::Vector\n",
    "    shipment_size::Vector \n",
    "end\n",
    "\n",
    "function ShipmentData(time_horizon, num_shipment, max_shipment_size)\n",
    "    rand_shipment_time = sort(rand(1:T, (num_shipment, 2)), dims = 2)\n",
    "    rand_sizes = rand(1:max_shipment_size, num_shipment)\n",
    "\n",
    "    return Shipment(rand_shipment_time[:, 1], rand_shipment_time[:, 2], rand_sizes)\n",
    "end\n",
    "\n",
    "function WarehouseData(grid_size, time_horizon, warehouse_row, warehouse_col, max_shipment_size, cap_tightness)\n",
    "    arrival_location = (0, 0)\n",
    "    departure_location = (warehouse_row, 0)\n",
    "\n",
    "    location = [(i*grid_size,j*grid_size) for i =1:warehouse_row, j = 1:warehouse_col]\n",
    "    L = warehouse_row * warehouse_col\n",
    "    distance_to_arrival = [norm(arrival_location .- location[l]) for l in 1:L]\n",
    "    distance_to_departure = [norm(arrival_location .- location[l]) for l in 1:L]\n",
    "    #cap_tightness \\in [0,1]: 0 is relatively tight (uniform), 1 is null size capacity\n",
    "    capacity = rand(floor(max_shipment_size * cap_tightness):max_shipment_size, warehouse_row * warehouse_col) \n",
    "    return Warehouse(\n",
    "        grid_size,\n",
    "        time_horizon,\n",
    "        distance_to_arrival,\n",
    "        distance_to_departure,\n",
    "        capacity\n",
    "    )\n",
    "end"
   ]
  },
  {
   "attachments": {},
   "cell_type": "markdown",
   "metadata": {},
   "source": [
    "# Build Model"
   ]
  },
  {
   "attachments": {},
   "cell_type": "markdown",
   "metadata": {},
   "source": [
    "demand packs one supply (occupancy) and size of demand packs supply size (size) \n",
    "\n",
    "\\begin{align}\n",
    "\\sum_{i \\in 1:I} x_{ilt} \\leq 1 \\quad \\text{occupancy (shipment1, shipment2, location)}\\\\\n",
    "\\sum_{i \\in 1:I} d_i x_i \\leq s \\quad (\\text{vs} d_i x_i \\leq s \\forall i )\\quad\\text{size (shipment1, location)}\\\\ \n",
    "\n",
    "\\\\\n",
    "\\sum_{i \\in 1:I} x_{ij} \\leq 1 \\forall j \\quad\\text{occupancy}\\\\\n",
    "\\sum_{i \\in 1:I} d_i x_{ij} \\leq s_j \\forall j \\quad\\text{size}\\\\\n",
    "\\end{align}"
   ]
  },
  {
   "cell_type": "code",
   "execution_count": 29,
   "metadata": {},
   "outputs": [
    {
     "data": {
      "text/plain": [
       "three_slt_extended_time_space (generic function with 2 methods)"
      ]
     },
     "metadata": {},
     "output_type": "display_data"
    }
   ],
   "source": [
    "function three_slt_extended_time_space(\n",
    "    warehouse_data::Warehouse,\n",
    "    shipment_data::Shipment\n",
    ")\n",
    "    model = Model(Gurobi.Optimizer)\n",
    "    set_optimizer_attribute(model, \"TimeLimit\", 60);\n",
    "\n",
    "    @variable(model, r[1:S,1:L,1:T] >= 0, Bin);\n",
    "    @variable(model, z[1:S,1:L] >= 0, Bin);\n",
    "\n",
    "    # supply side: \n",
    "    # can't store more than one shipment at each location and time\n",
    "    @constraint(model, occupancy_pack[l in 1:L, t in 1:T],\n",
    "        sum(r[s,l,t] for s in 1:S) <=1)\n",
    "    \n",
    "    # Each location can only hold items up to max size of the location\n",
    "    @constraint(model, size_pack[l in 1:L, t in 1:T],\n",
    "        sum(r[s,l,t] * shipment_data.shipment_size[s] for s in 1:S) <= warehouse_data.capacity[l] ## TODO sum over shipment or not\n",
    "    );\n",
    "\n",
    "    # Force z[s,l] to capture the location we're storing s in\n",
    "    @constraint(model, no_bumping[s in 1:S, l in 1:L, t in shipment_data.arrival_time[s]:shipment_data.departure_time[s]], \n",
    "        r[s,l,t] == z[s,l])\n",
    "\n",
    "    # Each shipment must be assigned to exactly one location during its time window:\n",
    "    @constraint(model, demand_pack_supply_once[s in 1:S, t in shipment_data.arrival_time[s]:shipment_data.departure_time[s]],\n",
    "        sum(r[s,l,t] for l in 1:L) == 1)\n",
    "\n",
    "    # Each shipment must be assigned to exactly zero locations outside its time window:\n",
    "    @constraint(model, mute_before_timewindow[s in 1:S, t in 1:shipment_data.arrival_time[s]-1],\n",
    "        sum(r[s,l,t] for l in 1:L) == 0)\n",
    "\n",
    "    @constraint(model, mute_after_timewindow[s in 1:S, t in shipment_data.departure_time[s]+1:T],\n",
    "        sum(r[s,l,t] for l in 1:L) == 0)\n",
    "\n",
    "    @objective(model, Min, \n",
    "        sum((warehouse_data.distance_to_arrival[l] + warehouse_data.distance_to_departure[l]) / (shipment_data.departure_time[s] - shipment_data.arrival_time[s] + 1) * r[s,l,t] \n",
    "        for s in 1:S, l in 1:L,t in 1:T));\n",
    "\n",
    "    return model, r, z\n",
    "end\n"
   ]
  },
  {
   "cell_type": "code",
   "execution_count": 30,
   "metadata": {},
   "outputs": [
    {
     "data": {
      "text/plain": [
       "two_sl_so (generic function with 2 methods)"
      ]
     },
     "metadata": {},
     "output_type": "display_data"
    }
   ],
   "source": [
    "function two_sl_so(\n",
    "    warehouse_data::Warehouse,\n",
    "    shipment_data::Shipment\n",
    ")\n",
    "    model = Model(Gurobi.Optimizer)\n",
    "    set_optimizer_attribute(model, \"TimeLimit\", 60);\n",
    "\n",
    "    @variable(model, z[1:S,1:L] >= 0, Bin);\n",
    "\n",
    "    @objective(model, Min, \n",
    "        sum((warehouse_data.distance_to_arrival[l] + warehouse_data.distance_to_departure[l]) * z[s,l] for s in 1:S, l in 1:L))\n",
    "\n",
    "\n",
    "    # Each product must be assigned to exactly one location:\n",
    "    @constraint(model, location_assignment[s in 1:S],\n",
    "        sum(\n",
    "            z[s,l]\n",
    "            for l in 1:L\n",
    "        ) == 1\n",
    "    );\n",
    "\n",
    "    # Each location can only hold items up to max size of the location\n",
    "    @constraint(model, max_size[l in 1:L, s in 1:S],\n",
    "        z[s,l] * shipment_data.shipment_size[s] <= warehouse_data.capacity[l]\n",
    "    );\n",
    "\n",
    "    # Each location can hold at most one product at any specific time:\n",
    "    overlap_dict = Dict{Int64,Vector{Int64}}()\n",
    "    for s1 in 1:S\n",
    "        s = []\n",
    "        for s2 in s1+1:S\n",
    "            if shipment_data.arrival_time[s1] <= shipment_data.departure_time[s2] && shipment_data.arrival_time[s2] <= shipment_data.departure_time[s1]\n",
    "                append!(s, s2)\n",
    "            end\n",
    "        end\n",
    "        overlap_dict[s1] = s\n",
    "    end\n",
    "\n",
    "    # # Each location can hold at most one product at any specific time:\n",
    "    # function find_overlap(s1)\n",
    "    #     s = []\n",
    "    #     for s2 in s1+1:S\n",
    "    #         if s1 == s2\n",
    "    #             continue\n",
    "    #         end\n",
    "\n",
    "    #         if shipment_data.arrival_time[s1] <= shipment_data.departure_time[s2] && shipment_data.arrival_time[s2] <= shipment_data.departure_time[s1]\n",
    "    #             append!(s, s2)\n",
    "    #         end\n",
    "    #     end\n",
    "    #     return s\n",
    "    # end\n",
    "\n",
    "    # @constraint(model, no_overlap[s1 in 1:S, s2 in find_overlap(s1), l in 1:L],\n",
    "    #     z[s1,l] + z[s2,l] <= 1\n",
    "    # );\n",
    "    @constraint(model, no_overlap[s1 in 1:S, s2 in overlap_dict[s1], l in 1:L],\n",
    "        z[s1,l] + z[s2,l] <= 1\n",
    "    );\n",
    "\n",
    "    return model, z\n",
    "end\n"
   ]
  },
  {
   "cell_type": "code",
   "execution_count": 31,
   "metadata": {},
   "outputs": [
    {
     "data": {
      "text/plain": [
       "two_sl_cso (generic function with 2 methods)"
      ]
     },
     "metadata": {},
     "output_type": "display_data"
    }
   ],
   "source": [
    "function two_sl_cso(\n",
    "    warehouse_data::Warehouse,\n",
    "    shipment_data::Shipment\n",
    ")\n",
    "    model = Model(Gurobi.Optimizer)\n",
    "    set_optimizer_attribute(model, \"TimeLimit\", 60);\n",
    "\n",
    "    @variable(model, z[1:S,1:L] >= 0, Bin);\n",
    "\n",
    "    @variable(\n",
    "        model,\n",
    "        1 <= r[1:S] <= L, Int\n",
    "    ) ;\n",
    "\n",
    "    @variable(\n",
    "        model,\n",
    "        y[1:S, 1:S], Bin\n",
    "    ) ;\n",
    "\n",
    "    @objective(model, Min, \n",
    "        sum((warehouse_data.distance_to_arrival[l] + warehouse_data.distance_to_departure[l]) * z[s,l] for s in 1:S, l in 1:L))\n",
    "\n",
    "    # Make r[s] equal to the index of the location we're storing s in\n",
    "    @constraint(model, assign_location_index[s in 1:S],\n",
    "        sum(\n",
    "            l * z[s,l]\n",
    "            for l in 1:L\n",
    "        ) == r[s]\n",
    "    );\n",
    "\n",
    "    # Each product must be assigned to exactly one location:\n",
    "    @constraint(model, location_assignment[s in 1:S],\n",
    "        sum(\n",
    "            z[s,l]\n",
    "            for l in 1:L\n",
    "        ) == 1\n",
    "    );\n",
    "\n",
    "    # Each location can only hold items up to max size of the location\n",
    "    @constraint(model, max_size[l in 1:L, s in 1:S],\n",
    "        z[s,l] * shipment_data.shipment_size[s] <= warehouse_data.capacity[l] ## TODO sum over shipment or not\n",
    "    );\n",
    "\n",
    "    # Each location can hold at most one product at any specific time:\n",
    "    overlap_dict = Dict{Int64,Vector{Int64}}()\n",
    "    for s1 in 1:S\n",
    "        s = []\n",
    "        for s2 in s1+1:S\n",
    "            if shipment_data.arrival_time[s1] <= shipment_data.departure_time[s2] && shipment_data.arrival_time[s2] <= shipment_data.departure_time[s1]\n",
    "                append!(s, s2)\n",
    "            end\n",
    "        end\n",
    "        overlap_dict[s1] = s\n",
    "    end\n",
    "\n",
    "    # function find_overlap(s1)\n",
    "    #     s = []\n",
    "    #     for s2 in s1:S\n",
    "    #         if shipment_data.arrival_time[s1] <= shipment_data.departure_time[s2] && shipment_data.arrival_time[s2] <= shipment_data.departure_time[s1]\n",
    "    #             append!(s, s2)\n",
    "    #         end\n",
    "    #     end\n",
    "    #     return s\n",
    "    # end\n",
    "\n",
    "    # @constraint(model, no_overlap_1[s1 in 1:S, s2 in find_overlap(s1)],\n",
    "    #     r[s1] - r[s2] <= -.01 + (L+5) * y[s1,s2]\n",
    "    # );\n",
    "    # @constraint(model, no_overlap_2[s1 in 1:S, s2 in find_overlap(s1)],\n",
    "    #     r[s1] - r[s2] >= .01 - (1-y[s1,s2]) * (L+5)\n",
    "    # );\n",
    "    @constraint(model, no_overlap_1[s1 in 1:S, s2 in overlap_dict[s1]],\n",
    "        r[s1] - r[s2] <= -.01 + (L+5) * y[s1,s2]\n",
    "    );\n",
    "    @constraint(model, no_overlap_2[s1 in 1:S, s2 in overlap_dict[s1]],\n",
    "        r[s1] - r[s2] >= .01 - (1-y[s1,s2]) * (L+5)\n",
    "    );\n",
    "\n",
    "    return model, z\n",
    "end\n"
   ]
  },
  {
   "cell_type": "code",
   "execution_count": 32,
   "metadata": {},
   "outputs": [],
   "source": [
    "#findall(x->x==1, value.(z[1,:]))\n",
    "# findall(x->x==1, value.(r[1,:,:]))"
   ]
  },
  {
   "cell_type": "code",
   "execution_count": 33,
   "metadata": {},
   "outputs": [
    {
     "data": {
      "text/plain": [
       "Shipment([2, 1], [2, 1], [8, 7])"
      ]
     },
     "metadata": {},
     "output_type": "display_data"
    }
   ],
   "source": [
    "G = 2\n",
    "R = 2\n",
    "C = 2\n",
    "L = R*C\n",
    "T = 2\n",
    "max_shipment_size = 10\n",
    "S = 2\n",
    "cap_tightness = .5\n",
    "WarehouseData(G,  T, R, C, max_shipment_size, cap_tightness)\n",
    "ShipmentData(T, S, max_shipment_size)"
   ]
  },
  {
   "cell_type": "code",
   "execution_count": 34,
   "metadata": {},
   "outputs": [
    {
     "data": {
      "text/plain": [
       "Shipment([1, 2], [2, 2], [10, 1])"
      ]
     },
     "metadata": {},
     "output_type": "display_data"
    }
   ],
   "source": [
    "shipment_data =ShipmentData(T, S, max_shipment_size)"
   ]
  },
  {
   "cell_type": "code",
   "execution_count": 35,
   "metadata": {},
   "outputs": [
    {
     "data": {
      "text/plain": [
       "Shipment([1, 2], [2, 2], [10, 1])"
      ]
     },
     "metadata": {},
     "output_type": "display_data"
    }
   ],
   "source": [
    "shipment_data"
   ]
  },
  {
   "cell_type": "code",
   "execution_count": 37,
   "metadata": {},
   "outputs": [
    {
     "name": "stdout",
     "output_type": "stream",
     "text": [
      "Starting 1\n",
      "Set parameter Username\n",
      "Academic license - for non-commercial use only - expires 2024-04-18\n",
      "Set parameter TimeLimit to value 60\n"
     ]
    },
    {
     "name": "stdout",
     "output_type": "stream",
     "text": [
      "Starting 2\n",
      "Set parameter Username\n",
      "Academic license - for non-commercial use only - expires 2024-04-18\n",
      "Set parameter TimeLimit to value 60\n"
     ]
    },
    {
     "name": "stdout",
     "output_type": "stream",
     "text": [
      "Starting 1\n",
      "Set parameter Username\n",
      "Academic license - for non-commercial use only - expires 2024-04-18\n",
      "Set parameter TimeLimit to value 60\n"
     ]
    },
    {
     "name": "stdout",
     "output_type": "stream",
     "text": [
      "Starting 2\n",
      "Set parameter Username\n",
      "Academic license - for non-commercial use only - expires 2024-04-18\n",
      "Set parameter TimeLimit to value 60\n"
     ]
    },
    {
     "name": "stdout",
     "output_type": "stream",
     "text": [
      "Starting 1\n",
      "Set parameter Username\n",
      "Academic license - for non-commercial use only - expires 2024-04-18\n",
      "Set parameter TimeLimit to value 60\n"
     ]
    },
    {
     "name": "stdout",
     "output_type": "stream",
     "text": [
      "Starting 2\n",
      "Set parameter Username\n",
      "Academic license - for non-commercial use only - expires 2024-04-18\n",
      "Set parameter TimeLimit to value 60\n"
     ]
    },
    {
     "name": "stdout",
     "output_type": "stream",
     "text": [
      "Starting 1\n",
      "Set parameter Username\n",
      "Academic license - for non-commercial use only - expires 2024-04-18\n",
      "Set parameter TimeLimit to value 60\n"
     ]
    },
    {
     "name": "stdout",
     "output_type": "stream",
     "text": [
      "Starting 2\n",
      "Set parameter Username\n",
      "Academic license - for non-commercial use only - expires 2024-04-18\n",
      "Set parameter TimeLimit to value 60\n"
     ]
    },
    {
     "name": "stdout",
     "output_type": "stream",
     "text": [
      "Starting 1\n",
      "Set parameter Username\n",
      "Academic license - for non-commercial use only - expires 2024-04-18\n",
      "Set parameter TimeLimit to value 60\n"
     ]
    },
    {
     "name": "stdout",
     "output_type": "stream",
     "text": [
      "Starting 2\n",
      "Set parameter Username\n",
      "Academic license - for non-commercial use only - expires 2024-04-18\n",
      "Set parameter TimeLimit to value 60\n"
     ]
    },
    {
     "name": "stdout",
     "output_type": "stream",
     "text": [
      "Starting 1\n",
      "Set parameter Username\n",
      "Academic license - for non-commercial use only - expires 2024-04-18\n",
      "Set parameter TimeLimit to value 60\n"
     ]
    },
    {
     "name": "stdout",
     "output_type": "stream",
     "text": [
      "Starting 2\n",
      "Set parameter Username\n",
      "Academic license - for non-commercial use only - expires 2024-04-18\n",
      "Set parameter TimeLimit to value 60\n"
     ]
    },
    {
     "name": "stdout",
     "output_type": "stream",
     "text": [
      "Starting 1\n",
      "Set parameter Username\n",
      "Academic license - for non-commercial use only - expires 2024-04-18\n",
      "Set parameter TimeLimit to value 60\n"
     ]
    },
    {
     "name": "stdout",
     "output_type": "stream",
     "text": [
      "Starting 2\n",
      "Set parameter Username\n",
      "Academic license - for non-commercial use only - expires 2024-04-18\n",
      "Set parameter TimeLimit to value 60\n"
     ]
    },
    {
     "name": "stdout",
     "output_type": "stream",
     "text": [
      "Starting 1\n",
      "Set parameter Username\n",
      "Academic license - for non-commercial use only - expires 2024-04-18\n",
      "Set parameter TimeLimit to value 60\n"
     ]
    },
    {
     "name": "stdout",
     "output_type": "stream",
     "text": [
      "Starting 2\n",
      "Set parameter Username\n",
      "Academic license - for non-commercial use only - expires 2024-04-18\n",
      "Set parameter TimeLimit to value 60\n"
     ]
    },
    {
     "name": "stdout",
     "output_type": "stream",
     "text": [
      "df = 8×9 DataFrame\n",
      " Row │ L      S      T      buildtime1  solvetime1  objective1  buildtime2  solvetime2  objective2\n",
      "     │ Int64  Int64  Int64  Float64     Float64     Float64     Float64     Float64     Float64\n",
      "─────┼─────────────────────────────────────────────────────────────────────────────────────────────\n",
      "   1 │   400     50     10    1.75247     2.13213      799.253    1.23439     0.937139     799.253\n",
      "   2 │   400    100     10    1.0036      1.63554     2085.1      3.38351     3.98574     2085.1\n",
      "   3 │   400     50     20    1.31537     1.81491      840.542    0.500866    1.07226      840.542\n",
      "   4 │   400    100     20    1.35096     3.73144     1941.59     3.01552     4.98701     1941.59\n",
      "   5 │   400     50     10    0.651577    0.827475     831.619    0.797648    0.957169     831.619\n",
      "   6 │   400    100     10    1.25648     1.38029     2244.19     2.87043     5.0044      2244.19\n",
      "   7 │   400     50     20    0.60778     3.05495      756.825    1.03853     0.998701     756.825\n",
      "   8 │   400    100     20    2.23797    98.9833      2057.78     3.01197     5.28922     2057.78\n"
     ]
    },
    {
     "data": {
      "text/html": [
       "<div><div style = \"float: left;\"><span>8×9 DataFrame</span></div><div style = \"clear: both;\"></div></div><div class = \"data-frame\" style = \"overflow-x: scroll;\"><table class = \"data-frame\" style = \"margin-bottom: 6px;\"><thead><tr class = \"header\"><th class = \"rowNumber\" style = \"font-weight: bold; text-align: right;\">Row</th><th style = \"text-align: left;\">L</th><th style = \"text-align: left;\">S</th><th style = \"text-align: left;\">T</th><th style = \"text-align: left;\">buildtime1</th><th style = \"text-align: left;\">solvetime1</th><th style = \"text-align: left;\">objective1</th><th style = \"text-align: left;\">buildtime2</th><th style = \"text-align: left;\">solvetime2</th><th style = \"text-align: left;\">objective2</th></tr><tr class = \"subheader headerLastRow\"><th class = \"rowNumber\" style = \"font-weight: bold; text-align: right;\"></th><th title = \"Int64\" style = \"text-align: left;\">Int64</th><th title = \"Int64\" style = \"text-align: left;\">Int64</th><th title = \"Int64\" style = \"text-align: left;\">Int64</th><th title = \"Float64\" style = \"text-align: left;\">Float64</th><th title = \"Float64\" style = \"text-align: left;\">Float64</th><th title = \"Float64\" style = \"text-align: left;\">Float64</th><th title = \"Float64\" style = \"text-align: left;\">Float64</th><th title = \"Float64\" style = \"text-align: left;\">Float64</th><th title = \"Float64\" style = \"text-align: left;\">Float64</th></tr></thead><tbody><tr><td class = \"rowNumber\" style = \"font-weight: bold; text-align: right;\">1</td><td style = \"text-align: right;\">400</td><td style = \"text-align: right;\">50</td><td style = \"text-align: right;\">10</td><td style = \"text-align: right;\">1.75247</td><td style = \"text-align: right;\">2.13213</td><td style = \"text-align: right;\">799.253</td><td style = \"text-align: right;\">1.23439</td><td style = \"text-align: right;\">0.937139</td><td style = \"text-align: right;\">799.253</td></tr><tr><td class = \"rowNumber\" style = \"font-weight: bold; text-align: right;\">2</td><td style = \"text-align: right;\">400</td><td style = \"text-align: right;\">100</td><td style = \"text-align: right;\">10</td><td style = \"text-align: right;\">1.0036</td><td style = \"text-align: right;\">1.63554</td><td style = \"text-align: right;\">2085.1</td><td style = \"text-align: right;\">3.38351</td><td style = \"text-align: right;\">3.98574</td><td style = \"text-align: right;\">2085.1</td></tr><tr><td class = \"rowNumber\" style = \"font-weight: bold; text-align: right;\">3</td><td style = \"text-align: right;\">400</td><td style = \"text-align: right;\">50</td><td style = \"text-align: right;\">20</td><td style = \"text-align: right;\">1.31537</td><td style = \"text-align: right;\">1.81491</td><td style = \"text-align: right;\">840.542</td><td style = \"text-align: right;\">0.500866</td><td style = \"text-align: right;\">1.07226</td><td style = \"text-align: right;\">840.542</td></tr><tr><td class = \"rowNumber\" style = \"font-weight: bold; text-align: right;\">4</td><td style = \"text-align: right;\">400</td><td style = \"text-align: right;\">100</td><td style = \"text-align: right;\">20</td><td style = \"text-align: right;\">1.35096</td><td style = \"text-align: right;\">3.73144</td><td style = \"text-align: right;\">1941.59</td><td style = \"text-align: right;\">3.01552</td><td style = \"text-align: right;\">4.98701</td><td style = \"text-align: right;\">1941.59</td></tr><tr><td class = \"rowNumber\" style = \"font-weight: bold; text-align: right;\">5</td><td style = \"text-align: right;\">400</td><td style = \"text-align: right;\">50</td><td style = \"text-align: right;\">10</td><td style = \"text-align: right;\">0.651577</td><td style = \"text-align: right;\">0.827475</td><td style = \"text-align: right;\">831.619</td><td style = \"text-align: right;\">0.797648</td><td style = \"text-align: right;\">0.957169</td><td style = \"text-align: right;\">831.619</td></tr><tr><td class = \"rowNumber\" style = \"font-weight: bold; text-align: right;\">6</td><td style = \"text-align: right;\">400</td><td style = \"text-align: right;\">100</td><td style = \"text-align: right;\">10</td><td style = \"text-align: right;\">1.25648</td><td style = \"text-align: right;\">1.38029</td><td style = \"text-align: right;\">2244.19</td><td style = \"text-align: right;\">2.87043</td><td style = \"text-align: right;\">5.0044</td><td style = \"text-align: right;\">2244.19</td></tr><tr><td class = \"rowNumber\" style = \"font-weight: bold; text-align: right;\">7</td><td style = \"text-align: right;\">400</td><td style = \"text-align: right;\">50</td><td style = \"text-align: right;\">20</td><td style = \"text-align: right;\">0.60778</td><td style = \"text-align: right;\">3.05495</td><td style = \"text-align: right;\">756.825</td><td style = \"text-align: right;\">1.03853</td><td style = \"text-align: right;\">0.998701</td><td style = \"text-align: right;\">756.825</td></tr><tr><td class = \"rowNumber\" style = \"font-weight: bold; text-align: right;\">8</td><td style = \"text-align: right;\">400</td><td style = \"text-align: right;\">100</td><td style = \"text-align: right;\">20</td><td style = \"text-align: right;\">2.23797</td><td style = \"text-align: right;\">98.9833</td><td style = \"text-align: right;\">2057.78</td><td style = \"text-align: right;\">3.01197</td><td style = \"text-align: right;\">5.28922</td><td style = \"text-align: right;\">2057.78</td></tr></tbody></table></div>"
      ],
      "text/latex": [
       "\\begin{tabular}{r|ccccccccc}\n",
       "\t& L & S & T & buildtime1 & solvetime1 & objective1 & buildtime2 & solvetime2 & \\\\\n",
       "\t\\hline\n",
       "\t& Int64 & Int64 & Int64 & Float64 & Float64 & Float64 & Float64 & Float64 & \\\\\n",
       "\t\\hline\n",
       "\t1 & 400 & 50 & 10 & 1.75247 & 2.13213 & 799.253 & 1.23439 & 0.937139 & $\\dots$ \\\\\n",
       "\t2 & 400 & 100 & 10 & 1.0036 & 1.63554 & 2085.1 & 3.38351 & 3.98574 & $\\dots$ \\\\\n",
       "\t3 & 400 & 50 & 20 & 1.31537 & 1.81491 & 840.542 & 0.500866 & 1.07226 & $\\dots$ \\\\\n",
       "\t4 & 400 & 100 & 20 & 1.35096 & 3.73144 & 1941.59 & 3.01552 & 4.98701 & $\\dots$ \\\\\n",
       "\t5 & 400 & 50 & 10 & 0.651577 & 0.827475 & 831.619 & 0.797648 & 0.957169 & $\\dots$ \\\\\n",
       "\t6 & 400 & 100 & 10 & 1.25648 & 1.38029 & 2244.19 & 2.87043 & 5.0044 & $\\dots$ \\\\\n",
       "\t7 & 400 & 50 & 20 & 0.60778 & 3.05495 & 756.825 & 1.03853 & 0.998701 & $\\dots$ \\\\\n",
       "\t8 & 400 & 100 & 20 & 2.23797 & 98.9833 & 2057.78 & 3.01197 & 5.28922 & $\\dots$ \\\\\n",
       "\\end{tabular}\n"
      ],
      "text/plain": [
       "\u001b[1m8×9 DataFrame\u001b[0m\n",
       "\u001b[1m Row \u001b[0m│\u001b[1m L     \u001b[0m\u001b[1m S     \u001b[0m\u001b[1m T     \u001b[0m\u001b[1m buildtime1 \u001b[0m\u001b[1m solvetime1 \u001b[0m\u001b[1m objective1 \u001b[0m\u001b[1m buildtime2 \u001b[0m\u001b[1m so\u001b[0m ⋯\n",
       "     │\u001b[90m Int64 \u001b[0m\u001b[90m Int64 \u001b[0m\u001b[90m Int64 \u001b[0m\u001b[90m Float64    \u001b[0m\u001b[90m Float64    \u001b[0m\u001b[90m Float64    \u001b[0m\u001b[90m Float64    \u001b[0m\u001b[90m Fl\u001b[0m ⋯\n",
       "─────┼──────────────────────────────────────────────────────────────────────────\n",
       "   1 │   400     50     10    1.75247     2.13213      799.253    1.23439      ⋯\n",
       "   2 │   400    100     10    1.0036      1.63554     2085.1      3.38351\n",
       "   3 │   400     50     20    1.31537     1.81491      840.542    0.500866\n",
       "   4 │   400    100     20    1.35096     3.73144     1941.59     3.01552\n",
       "   5 │   400     50     10    0.651577    0.827475     831.619    0.797648     ⋯\n",
       "   6 │   400    100     10    1.25648     1.38029     2244.19     2.87043\n",
       "   7 │   400     50     20    0.60778     3.05495      756.825    1.03853\n",
       "   8 │   400    100     20    2.23797    98.9833      2057.78     3.01197\n",
       "\u001b[36m                                                               2 columns omitted\u001b[0m"
      ]
     },
     "metadata": {},
     "output_type": "display_data"
    }
   ],
   "source": [
    "Random.seed!(3000)\n",
    "\n",
    "plotdata = []\n",
    "# packing S paths in LT space\n",
    "L_range = [(20, 20)] #, (30, 75)]\n",
    "S_range = [50, 100] #, 100, 250]\n",
    "T_range = [10, 20]\n",
    "cap_tightness_range = [0.5, 1]\n",
    "for ((r, c), s, t, cap_tightness) in Iterators.product(\n",
    "    L_range,\n",
    "    S_range,\n",
    "    T_range,\n",
    "    cap_tightness_range\n",
    ")\n",
    "    G = 2\n",
    "    R = r\n",
    "    C = c\n",
    "    L = R*C\n",
    "    T = t\n",
    "    max_shipment_size = 10\n",
    "    S = s\n",
    "# #function WarehouseData(grid_size, warehouse_row, warehouse_col, max_shipment_size, time_horizon, cap_tightness)\n",
    "    warehouse_data = WarehouseData(G, T, R, C, max_shipment_size, cap_tightness)\n",
    "    shipment_data = ShipmentData(T, S, max_shipment_size)\n",
    "\n",
    "    @printf \"Starting 1\\n\"\n",
    "    buildtime1 = @elapsed model1, _, _ = three_slt_extended_time_space(warehouse_data, shipment_data)\n",
    "    # optimize!(model1)\n",
    "    solvetime1 = @elapsed @suppress optimize!(model1)\n",
    "    objective1 = typemax(Int32)\n",
    "    try\n",
    "        objective1 = objective_value(model1)\n",
    "    catch\n",
    "    end\n",
    "\n",
    "    @printf \"Starting 2\\n\"\n",
    "    buildtime2 = @elapsed model2, _ = two_sl_so(warehouse_data, shipment_data)\n",
    "    # optimize!(model2)\n",
    "    solvetime2 = @elapsed @suppress optimize!(model2)\n",
    "    objective2 = typemax(Int32)\n",
    "    try\n",
    "        objective2 = objective_value(model2)\n",
    "    catch\n",
    "    end\n",
    "    \n",
    "    # @printf \"Starting 3\\n\"\n",
    "    # buildtime3 = @elapsed model3, _ = two_sl_cso(warehouse_data, shipment_data)\n",
    "    # # optimize!(model3)\n",
    "    # solvetime3 = @elapsed @suppress optimize!(model3)\n",
    "    # objective3 = typemax(Int32)\n",
    "    # try\n",
    "    #     objective3 = objective_value(model3)\n",
    "    # catch\n",
    "    # end\n",
    "\n",
    "    push!(plotdata, (\n",
    "        L = L,\n",
    "        S = S,\n",
    "        T = T,\n",
    "        buildtime1 = buildtime1, \n",
    "        solvetime1 = solvetime1, \n",
    "        objective1 = objective1,\n",
    "        buildtime2 = buildtime2, \n",
    "        solvetime2 = solvetime2, \n",
    "        objective2 = objective2,\n",
    "        # buildtime3 = buildtime3, \n",
    "        # solvetime3 = solvetime3,\n",
    "        # objective3 = objective3,\n",
    "    ))\n",
    "end\n",
    "df = DataFrame(plotdata)\n",
    "\n",
    "@show df"
   ]
  },
  {
   "cell_type": "code",
   "execution_count": 10,
   "metadata": {},
   "outputs": [],
   "source": []
  },
  {
   "cell_type": "code",
   "execution_count": 11,
   "metadata": {},
   "outputs": [
    {
     "ename": "UndefVarError",
     "evalue": "UndefVarError: df not defined",
     "output_type": "error",
     "traceback": [
      "UndefVarError: df not defined\n",
      "\n",
      "Stacktrace:\n",
      " [1] top-level scope\n",
      "   @ ~/Dropbox (MIT)/tolzul/BayesSD/code/pipeline/prescriptive/IP/15083pj/term_project.ipynb:1"
     ]
    }
   ],
   "source": [
    "groupedbar(\n",
    "    repeat(lpad.(string.(L_range), 4), outer = 3), \n",
    "    vcat(df[!, :solvetime1], df[!, :solvetime2], df[!, :solvetime3]),\n",
    "    group = repeat([\"Model 1\", \"Model 2\", \"Model 3\"], inner = 3),\n",
    "    ylabel = \"Solve time (s)\",\n",
    "    # yscale = :log10,\n",
    "    title = \"Solve times of both formulations with # of customers\",\n",
    "    legend = :topleft,\n",
    ")"
   ]
  },
  {
   "cell_type": "code",
   "execution_count": 12,
   "metadata": {},
   "outputs": [
    {
     "name": "stdout",
     "output_type": "stream",
     "text": [
      "df = 0×0 DataFrame\n"
     ]
    },
    {
     "data": {
      "text/html": [
       "<div><div style = \"float: left;\"><span>0×0 DataFrame</span></div><div style = \"clear: both;\"></div></div><div class = \"data-frame\" style = \"overflow-x: scroll;\"><table class = \"data-frame\" style = \"margin-bottom: 6px;\"></table></div>"
      ],
      "text/latex": [
       "\\begin{tabular}{r|}\n",
       "\t& \\\\\n",
       "\t\\hline\n",
       "\t& \\\\\n",
       "\t\\hline\n",
       "\\end{tabular}\n"
      ],
      "text/plain": [
       "\u001b[1m0×0 DataFrame\u001b[0m"
      ]
     },
     "metadata": {},
     "output_type": "display_data"
    }
   ],
   "source": [
    "df = DataFrame(plotdata)\n",
    "@show df"
   ]
  },
  {
   "cell_type": "code",
   "execution_count": 13,
   "metadata": {},
   "outputs": [
    {
     "name": "stdout",
     "output_type": "stream",
     "text": [
      "df = 0×0 DataFrame\n"
     ]
    },
    {
     "data": {
      "text/html": [
       "<div><div style = \"float: left;\"><span>0×0 DataFrame</span></div><div style = \"clear: both;\"></div></div><div class = \"data-frame\" style = \"overflow-x: scroll;\"><table class = \"data-frame\" style = \"margin-bottom: 6px;\"></table></div>"
      ],
      "text/latex": [
       "\\begin{tabular}{r|}\n",
       "\t& \\\\\n",
       "\t\\hline\n",
       "\t& \\\\\n",
       "\t\\hline\n",
       "\\end{tabular}\n"
      ],
      "text/plain": [
       "\u001b[1m0×0 DataFrame\u001b[0m"
      ]
     },
     "metadata": {},
     "output_type": "display_data"
    }
   ],
   "source": [
    "df = DataFrame(plotdata)\n",
    "@show df"
   ]
  },
  {
   "cell_type": "code",
   "execution_count": 14,
   "metadata": {},
   "outputs": [],
   "source": []
  }
 ],
 "metadata": {
  "kernelspec": {
   "display_name": "Julia 1.8.5",
   "language": "julia",
   "name": "julia-1.8"
  },
  "language_info": {
   "file_extension": ".jl",
   "mimetype": "application/julia",
   "name": "julia",
   "version": "1.8.5"
  },
  "orig_nbformat": 4
 },
 "nbformat": 4,
 "nbformat_minor": 2
}
